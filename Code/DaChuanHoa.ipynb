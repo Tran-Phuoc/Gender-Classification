{
 "cells": [
  {
   "cell_type": "code",
   "execution_count": 114,
   "metadata": {},
   "outputs": [],
   "source": [
    "import pandas as pd\n",
    "import numpy as np\n",
    "import matplotlib.pyplot as plt\n",
    "import random"
   ]
  },
  {
   "cell_type": "code",
   "execution_count": 115,
   "metadata": {},
   "outputs": [],
   "source": [
    "dataset = pd.read_csv('./data/gender_classification_v7.csv',header = None).values"
   ]
  },
  {
   "cell_type": "code",
   "execution_count": 116,
   "metadata": {},
   "outputs": [],
   "source": [
    "dataset=dataset[1:,:]\n",
    "n,d=dataset.shape"
   ]
  },
  {
   "cell_type": "code",
   "execution_count": 117,
   "metadata": {},
   "outputs": [],
   "source": [
    "def xu_Ly(dataset) :\n",
    "    for i in range(n) :\n",
    "        data=dataset[i,-1]\n",
    "        if(data=='Female') :\n",
    "            dataset[i,-1]=0\n",
    "        else :\n",
    "            dataset[i,-1]=1\n",
    "    return dataset"
   ]
  },
  {
   "cell_type": "code",
   "execution_count": 118,
   "metadata": {},
   "outputs": [],
   "source": [
    "dataset=xu_Ly(dataset)\n",
    "dataset=dataset.astype(float)"
   ]
  },
  {
   "cell_type": "code",
   "execution_count": 119,
   "metadata": {},
   "outputs": [],
   "source": [
    "def train_test_split(X,n):\n",
    "    N,d=X.shape\n",
    "    test_temp=[]\n",
    "    random_array=random.sample(range(N),n)\n",
    "    random_array.sort()\n",
    "    count=0\n",
    "    for i in range(n):\n",
    "        test_temp.append(X[random_array[i]-count,:])\n",
    "        X=np.delete(X,(random_array[i]-count),axis=0)\n",
    "        count=count+1\n",
    "    X_train=X[:,0:d-1].reshape(-1,d-1)\n",
    "    y_train=X[:,d-1].reshape(-1,1)\n",
    "    test_temp1=np.array(test_temp)\n",
    "    X_test=test_temp1[:,0:d-1].reshape(-1,d-1)\n",
    "    y_test=test_temp1[:,d-1].reshape(-1,1)\n",
    "    return X_train,y_train,X_test,y_test\n",
    "\n",
    "def sigmoid_function(z):\n",
    "    return 1/(1 + np.exp(-z))\n",
    "\n",
    "def predict(x,theta):\n",
    "    temp = np.dot(x,theta)\n",
    "    return sigmoid_function(temp)\n",
    "\n",
    "def cost_function(theta,x,Y):\n",
    "    prediction = predict(x,theta)\n",
    "    loss_class1 = Y *np.log(prediction)\n",
    "    loss_class2 = (1-Y)*np.log(1-prediction)\n",
    "    loss = loss_class1 + loss_class2\n",
    "    return -1/n*np.sum(loss)\n",
    "\n",
    "def train(x,Y,theta,learning_rate,iters):\n",
    "    cost_his=[]\n",
    "    for i in range(iters):\n",
    "        y1 = predict(x,theta)\n",
    "        theta = theta - learning_rate*np.dot(x.T,(y1 - Y))/n\n",
    "        cost = cost_function(theta,x,Y)\n",
    "        cost_his.append(cost)\n",
    "    return cost_his, cost,theta\n",
    "\n",
    "def phan_Loai(X_test,theta):\n",
    "    pre = predict(X_test,theta)\n",
    "    y_test =[]\n",
    "    for i in pre:\n",
    "        if(i>=0.5): y_test.append(1)\n",
    "        else: y_test.append(0)\n",
    "    return y_test\n",
    "\n",
    "def acuracy(y_test,label):\n",
    "    count=0\n",
    "    for i in range(len(label)):\n",
    "        if y_test[i]==label[i] :\n",
    "            count=count+1\n",
    "    return (count*100/len(label))"
   ]
  },
  {
   "cell_type": "code",
   "execution_count": 120,
   "metadata": {},
   "outputs": [],
   "source": [
    "N=1000\n",
    "X_train,y_train,X_test,y_test=train_test_split(dataset,N)"
   ]
  },
  {
   "cell_type": "code",
   "execution_count": 121,
   "metadata": {},
   "outputs": [
    {
     "name": "stdout",
     "output_type": "stream",
     "text": [
      "Tỉ lệ dự đoán là :  95.2 %\n"
     ]
    }
   ],
   "source": [
    "x = np.hstack((np.ones((n-N,1)),X_train))\n",
    "\n",
    "learning_rate,iters=0.01,10000\n",
    "theta = np.array([0.1]*d).reshape(d,1)\n",
    "cost_his,cost,theta = train(x,y_train,theta,learning_rate,iters)\n",
    "\n",
    "X_test_pre = np.hstack((np.ones((N,1)),X_test))\n",
    "y_test_pre = phan_Loai(X_test_pre,theta)\n",
    "print(\"Tỉ lệ dự đoán là : \",acuracy(y_test,y_test_pre),'%')"
   ]
  }
 ],
 "metadata": {
  "kernelspec": {
   "display_name": "Python 3",
   "language": "python",
   "name": "python3"
  },
  "language_info": {
   "codemirror_mode": {
    "name": "ipython",
    "version": 3
   },
   "file_extension": ".py",
   "mimetype": "text/x-python",
   "name": "python",
   "nbconvert_exporter": "python",
   "pygments_lexer": "ipython3",
   "version": "3.9.0"
  }
 },
 "nbformat": 4,
 "nbformat_minor": 4
}
